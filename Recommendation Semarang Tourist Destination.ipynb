{
 "cells": [
  {
   "cell_type": "markdown",
   "id": "b7a4ddb0",
   "metadata": {},
   "source": [
    "## Information Dataset"
   ]
  },
  {
   "cell_type": "markdown",
   "id": "e9f2fe7c",
   "metadata": {},
   "source": [
    "Sumber data: https://www.kaggle.com/aprabowo/indonesia-tourism-destination"
   ]
  },
  {
   "cell_type": "markdown",
   "id": "f776dd89",
   "metadata": {},
   "source": [
    "## Import Library"
   ]
  },
  {
   "cell_type": "code",
   "execution_count": 1,
   "id": "75e287f4",
   "metadata": {},
   "outputs": [],
   "source": [
    "# Data Processing\n",
    "import pandas as pd\n",
    "import numpy as np\n",
    "from zipfile import ZipFile\n",
    "from pathlib import Path\n",
    "\n",
    "# Data Visualization\n",
    "import seaborn as sns\n",
    "import matplotlib.pyplot as plt\n",
    "import plotly.express as px\n",
    "\n",
    "%matplotlib inline\n",
    "sns.set_palette('Set1')\n",
    "sns.set()\n",
    "\n",
    "# Data Modelling\n",
    "import tensorflow as tf\n",
    "from tensorflow import keras\n",
    "from tensorflow.keras import layers\n",
    "\n",
    "# Avoiding warning while plotting on seaborn\n",
    "import warnings\n",
    "warnings.filterwarnings('ignore')\n",
    "\n",
    "# Uploading file\n",
    "import os"
   ]
  },
  {
   "cell_type": "markdown",
   "id": "0eae96c1",
   "metadata": {},
   "source": [
    "## Load Dataset"
   ]
  },
  {
   "cell_type": "code",
   "execution_count": 2,
   "id": "c21fa307",
   "metadata": {},
   "outputs": [
    {
     "name": "stdout",
     "output_type": "stream",
     "text": [
      "Dataset -->  ['package_tourism.csv', 'tourism_rating.csv', 'tourism_with_id.csv', 'user.csv']\n"
     ]
    }
   ],
   "source": [
    "base_dir = os.path.join(\"indonesia_tourism/\")\n",
    "print(\"Dataset --> \", os.listdir(base_dir))"
   ]
  },
  {
   "cell_type": "code",
   "execution_count": 3,
   "id": "6bdc753b",
   "metadata": {},
   "outputs": [],
   "source": [
    "rating = base_dir + 'tourism_rating.csv'\n",
    "rating = pd.read_csv(rating)\n",
    "place = base_dir + 'tourism_with_id.csv'\n",
    "place = pd.read_csv(place)\n",
    "user = base_dir + 'user.csv'\n",
    "user = pd.read_csv(user)"
   ]
  },
  {
   "cell_type": "markdown",
   "id": "98642ee7",
   "metadata": {},
   "source": [
    "### Data Place"
   ]
  },
  {
   "cell_type": "code",
   "execution_count": 4,
   "id": "4a423066",
   "metadata": {},
   "outputs": [
    {
     "data": {
      "text/html": [
       "<div>\n",
       "<style scoped>\n",
       "    .dataframe tbody tr th:only-of-type {\n",
       "        vertical-align: middle;\n",
       "    }\n",
       "\n",
       "    .dataframe tbody tr th {\n",
       "        vertical-align: top;\n",
       "    }\n",
       "\n",
       "    .dataframe thead th {\n",
       "        text-align: right;\n",
       "    }\n",
       "</style>\n",
       "<table border=\"1\" class=\"dataframe\">\n",
       "  <thead>\n",
       "    <tr style=\"text-align: right;\">\n",
       "      <th></th>\n",
       "      <th>Place_Id</th>\n",
       "      <th>Place_Name</th>\n",
       "      <th>Description</th>\n",
       "      <th>Category</th>\n",
       "      <th>City</th>\n",
       "      <th>Price</th>\n",
       "      <th>Rating</th>\n",
       "      <th>Time_Minutes</th>\n",
       "      <th>Coordinate</th>\n",
       "      <th>Lat</th>\n",
       "      <th>Long</th>\n",
       "      <th>Unnamed: 11</th>\n",
       "      <th>Unnamed: 12</th>\n",
       "    </tr>\n",
       "  </thead>\n",
       "  <tbody>\n",
       "    <tr>\n",
       "      <th>0</th>\n",
       "      <td>1</td>\n",
       "      <td>Monumen Nasional</td>\n",
       "      <td>Monumen Nasional atau yang populer disingkat d...</td>\n",
       "      <td>Budaya</td>\n",
       "      <td>Jakarta</td>\n",
       "      <td>20000</td>\n",
       "      <td>4.6</td>\n",
       "      <td>15.0</td>\n",
       "      <td>{'lat': -6.1753924, 'lng': 106.8271528}</td>\n",
       "      <td>-6.175392</td>\n",
       "      <td>106.827153</td>\n",
       "      <td>NaN</td>\n",
       "      <td>1</td>\n",
       "    </tr>\n",
       "    <tr>\n",
       "      <th>1</th>\n",
       "      <td>2</td>\n",
       "      <td>Kota Tua</td>\n",
       "      <td>Kota tua di Jakarta, yang juga bernama Kota Tu...</td>\n",
       "      <td>Budaya</td>\n",
       "      <td>Jakarta</td>\n",
       "      <td>0</td>\n",
       "      <td>4.6</td>\n",
       "      <td>90.0</td>\n",
       "      <td>{'lat': -6.137644799999999, 'lng': 106.8171245}</td>\n",
       "      <td>-6.137645</td>\n",
       "      <td>106.817125</td>\n",
       "      <td>NaN</td>\n",
       "      <td>2</td>\n",
       "    </tr>\n",
       "    <tr>\n",
       "      <th>2</th>\n",
       "      <td>3</td>\n",
       "      <td>Dunia Fantasi</td>\n",
       "      <td>Dunia Fantasi atau disebut juga Dufan adalah t...</td>\n",
       "      <td>Taman Hiburan</td>\n",
       "      <td>Jakarta</td>\n",
       "      <td>270000</td>\n",
       "      <td>4.6</td>\n",
       "      <td>360.0</td>\n",
       "      <td>{'lat': -6.125312399999999, 'lng': 106.8335377}</td>\n",
       "      <td>-6.125312</td>\n",
       "      <td>106.833538</td>\n",
       "      <td>NaN</td>\n",
       "      <td>3</td>\n",
       "    </tr>\n",
       "    <tr>\n",
       "      <th>3</th>\n",
       "      <td>4</td>\n",
       "      <td>Taman Mini Indonesia Indah (TMII)</td>\n",
       "      <td>Taman Mini Indonesia Indah merupakan suatu kaw...</td>\n",
       "      <td>Taman Hiburan</td>\n",
       "      <td>Jakarta</td>\n",
       "      <td>10000</td>\n",
       "      <td>4.5</td>\n",
       "      <td>NaN</td>\n",
       "      <td>{'lat': -6.302445899999999, 'lng': 106.8951559}</td>\n",
       "      <td>-6.302446</td>\n",
       "      <td>106.895156</td>\n",
       "      <td>NaN</td>\n",
       "      <td>4</td>\n",
       "    </tr>\n",
       "    <tr>\n",
       "      <th>4</th>\n",
       "      <td>5</td>\n",
       "      <td>Atlantis Water Adventure</td>\n",
       "      <td>Atlantis Water Adventure atau dikenal dengan A...</td>\n",
       "      <td>Taman Hiburan</td>\n",
       "      <td>Jakarta</td>\n",
       "      <td>94000</td>\n",
       "      <td>4.5</td>\n",
       "      <td>60.0</td>\n",
       "      <td>{'lat': -6.12419, 'lng': 106.839134}</td>\n",
       "      <td>-6.124190</td>\n",
       "      <td>106.839134</td>\n",
       "      <td>NaN</td>\n",
       "      <td>5</td>\n",
       "    </tr>\n",
       "  </tbody>\n",
       "</table>\n",
       "</div>"
      ],
      "text/plain": [
       "   Place_Id                         Place_Name  \\\n",
       "0         1                   Monumen Nasional   \n",
       "1         2                           Kota Tua   \n",
       "2         3                      Dunia Fantasi   \n",
       "3         4  Taman Mini Indonesia Indah (TMII)   \n",
       "4         5           Atlantis Water Adventure   \n",
       "\n",
       "                                         Description       Category     City  \\\n",
       "0  Monumen Nasional atau yang populer disingkat d...         Budaya  Jakarta   \n",
       "1  Kota tua di Jakarta, yang juga bernama Kota Tu...         Budaya  Jakarta   \n",
       "2  Dunia Fantasi atau disebut juga Dufan adalah t...  Taman Hiburan  Jakarta   \n",
       "3  Taman Mini Indonesia Indah merupakan suatu kaw...  Taman Hiburan  Jakarta   \n",
       "4  Atlantis Water Adventure atau dikenal dengan A...  Taman Hiburan  Jakarta   \n",
       "\n",
       "    Price  Rating  Time_Minutes  \\\n",
       "0   20000     4.6          15.0   \n",
       "1       0     4.6          90.0   \n",
       "2  270000     4.6         360.0   \n",
       "3   10000     4.5           NaN   \n",
       "4   94000     4.5          60.0   \n",
       "\n",
       "                                        Coordinate       Lat        Long  \\\n",
       "0          {'lat': -6.1753924, 'lng': 106.8271528} -6.175392  106.827153   \n",
       "1  {'lat': -6.137644799999999, 'lng': 106.8171245} -6.137645  106.817125   \n",
       "2  {'lat': -6.125312399999999, 'lng': 106.8335377} -6.125312  106.833538   \n",
       "3  {'lat': -6.302445899999999, 'lng': 106.8951559} -6.302446  106.895156   \n",
       "4             {'lat': -6.12419, 'lng': 106.839134} -6.124190  106.839134   \n",
       "\n",
       "   Unnamed: 11  Unnamed: 12  \n",
       "0          NaN            1  \n",
       "1          NaN            2  \n",
       "2          NaN            3  \n",
       "3          NaN            4  \n",
       "4          NaN            5  "
      ]
     },
     "execution_count": 4,
     "metadata": {},
     "output_type": "execute_result"
    }
   ],
   "source": [
    "place.head()"
   ]
  },
  {
   "cell_type": "code",
   "execution_count": 5,
   "id": "5b5a391b",
   "metadata": {},
   "outputs": [
    {
     "data": {
      "text/html": [
       "<div>\n",
       "<style scoped>\n",
       "    .dataframe tbody tr th:only-of-type {\n",
       "        vertical-align: middle;\n",
       "    }\n",
       "\n",
       "    .dataframe tbody tr th {\n",
       "        vertical-align: top;\n",
       "    }\n",
       "\n",
       "    .dataframe thead th {\n",
       "        text-align: right;\n",
       "    }\n",
       "</style>\n",
       "<table border=\"1\" class=\"dataframe\">\n",
       "  <thead>\n",
       "    <tr style=\"text-align: right;\">\n",
       "      <th></th>\n",
       "      <th>Place_Id</th>\n",
       "      <th>Place_Name</th>\n",
       "      <th>Description</th>\n",
       "      <th>Category</th>\n",
       "      <th>City</th>\n",
       "      <th>Price</th>\n",
       "      <th>Rating</th>\n",
       "      <th>Time_Minutes</th>\n",
       "      <th>Coordinate</th>\n",
       "      <th>Lat</th>\n",
       "      <th>Long</th>\n",
       "    </tr>\n",
       "  </thead>\n",
       "  <tbody>\n",
       "    <tr>\n",
       "      <th>0</th>\n",
       "      <td>1</td>\n",
       "      <td>Monumen Nasional</td>\n",
       "      <td>Monumen Nasional atau yang populer disingkat d...</td>\n",
       "      <td>Budaya</td>\n",
       "      <td>Jakarta</td>\n",
       "      <td>20000</td>\n",
       "      <td>4.6</td>\n",
       "      <td>15.0</td>\n",
       "      <td>{'lat': -6.1753924, 'lng': 106.8271528}</td>\n",
       "      <td>-6.175392</td>\n",
       "      <td>106.827153</td>\n",
       "    </tr>\n",
       "    <tr>\n",
       "      <th>1</th>\n",
       "      <td>2</td>\n",
       "      <td>Kota Tua</td>\n",
       "      <td>Kota tua di Jakarta, yang juga bernama Kota Tu...</td>\n",
       "      <td>Budaya</td>\n",
       "      <td>Jakarta</td>\n",
       "      <td>0</td>\n",
       "      <td>4.6</td>\n",
       "      <td>90.0</td>\n",
       "      <td>{'lat': -6.137644799999999, 'lng': 106.8171245}</td>\n",
       "      <td>-6.137645</td>\n",
       "      <td>106.817125</td>\n",
       "    </tr>\n",
       "    <tr>\n",
       "      <th>2</th>\n",
       "      <td>3</td>\n",
       "      <td>Dunia Fantasi</td>\n",
       "      <td>Dunia Fantasi atau disebut juga Dufan adalah t...</td>\n",
       "      <td>Taman Hiburan</td>\n",
       "      <td>Jakarta</td>\n",
       "      <td>270000</td>\n",
       "      <td>4.6</td>\n",
       "      <td>360.0</td>\n",
       "      <td>{'lat': -6.125312399999999, 'lng': 106.8335377}</td>\n",
       "      <td>-6.125312</td>\n",
       "      <td>106.833538</td>\n",
       "    </tr>\n",
       "    <tr>\n",
       "      <th>3</th>\n",
       "      <td>4</td>\n",
       "      <td>Taman Mini Indonesia Indah (TMII)</td>\n",
       "      <td>Taman Mini Indonesia Indah merupakan suatu kaw...</td>\n",
       "      <td>Taman Hiburan</td>\n",
       "      <td>Jakarta</td>\n",
       "      <td>10000</td>\n",
       "      <td>4.5</td>\n",
       "      <td>NaN</td>\n",
       "      <td>{'lat': -6.302445899999999, 'lng': 106.8951559}</td>\n",
       "      <td>-6.302446</td>\n",
       "      <td>106.895156</td>\n",
       "    </tr>\n",
       "    <tr>\n",
       "      <th>4</th>\n",
       "      <td>5</td>\n",
       "      <td>Atlantis Water Adventure</td>\n",
       "      <td>Atlantis Water Adventure atau dikenal dengan A...</td>\n",
       "      <td>Taman Hiburan</td>\n",
       "      <td>Jakarta</td>\n",
       "      <td>94000</td>\n",
       "      <td>4.5</td>\n",
       "      <td>60.0</td>\n",
       "      <td>{'lat': -6.12419, 'lng': 106.839134}</td>\n",
       "      <td>-6.124190</td>\n",
       "      <td>106.839134</td>\n",
       "    </tr>\n",
       "  </tbody>\n",
       "</table>\n",
       "</div>"
      ],
      "text/plain": [
       "   Place_Id                         Place_Name  \\\n",
       "0         1                   Monumen Nasional   \n",
       "1         2                           Kota Tua   \n",
       "2         3                      Dunia Fantasi   \n",
       "3         4  Taman Mini Indonesia Indah (TMII)   \n",
       "4         5           Atlantis Water Adventure   \n",
       "\n",
       "                                         Description       Category     City  \\\n",
       "0  Monumen Nasional atau yang populer disingkat d...         Budaya  Jakarta   \n",
       "1  Kota tua di Jakarta, yang juga bernama Kota Tu...         Budaya  Jakarta   \n",
       "2  Dunia Fantasi atau disebut juga Dufan adalah t...  Taman Hiburan  Jakarta   \n",
       "3  Taman Mini Indonesia Indah merupakan suatu kaw...  Taman Hiburan  Jakarta   \n",
       "4  Atlantis Water Adventure atau dikenal dengan A...  Taman Hiburan  Jakarta   \n",
       "\n",
       "    Price  Rating  Time_Minutes  \\\n",
       "0   20000     4.6          15.0   \n",
       "1       0     4.6          90.0   \n",
       "2  270000     4.6         360.0   \n",
       "3   10000     4.5           NaN   \n",
       "4   94000     4.5          60.0   \n",
       "\n",
       "                                        Coordinate       Lat        Long  \n",
       "0          {'lat': -6.1753924, 'lng': 106.8271528} -6.175392  106.827153  \n",
       "1  {'lat': -6.137644799999999, 'lng': 106.8171245} -6.137645  106.817125  \n",
       "2  {'lat': -6.125312399999999, 'lng': 106.8335377} -6.125312  106.833538  \n",
       "3  {'lat': -6.302445899999999, 'lng': 106.8951559} -6.302446  106.895156  \n",
       "4             {'lat': -6.12419, 'lng': 106.839134} -6.124190  106.839134  "
      ]
     },
     "execution_count": 5,
     "metadata": {},
     "output_type": "execute_result"
    }
   ],
   "source": [
    "# Drop unused column \n",
    "\n",
    "place = place.drop(['Unnamed: 11','Unnamed: 12'],axis=1)\n",
    "place.head()"
   ]
  },
  {
   "cell_type": "code",
   "execution_count": 6,
   "id": "c71c3645",
   "metadata": {},
   "outputs": [
    {
     "data": {
      "text/html": [
       "<div>\n",
       "<style scoped>\n",
       "    .dataframe tbody tr th:only-of-type {\n",
       "        vertical-align: middle;\n",
       "    }\n",
       "\n",
       "    .dataframe tbody tr th {\n",
       "        vertical-align: top;\n",
       "    }\n",
       "\n",
       "    .dataframe thead th {\n",
       "        text-align: right;\n",
       "    }\n",
       "</style>\n",
       "<table border=\"1\" class=\"dataframe\">\n",
       "  <thead>\n",
       "    <tr style=\"text-align: right;\">\n",
       "      <th></th>\n",
       "      <th>Place_Id</th>\n",
       "      <th>Place_Name</th>\n",
       "      <th>Description</th>\n",
       "      <th>Category</th>\n",
       "      <th>City</th>\n",
       "      <th>Price</th>\n",
       "      <th>Rating</th>\n",
       "      <th>Time_Minutes</th>\n",
       "      <th>Coordinate</th>\n",
       "      <th>Lat</th>\n",
       "      <th>Long</th>\n",
       "    </tr>\n",
       "  </thead>\n",
       "  <tbody>\n",
       "    <tr>\n",
       "      <th>334</th>\n",
       "      <td>335</td>\n",
       "      <td>Candi Gedong Songo</td>\n",
       "      <td>Candi Gedong Songo (bahasa Jawa: ꦕꦤ꧀ꦝꦶ​ꦒꦼꦝꦺꦴꦁ​...</td>\n",
       "      <td>Budaya</td>\n",
       "      <td>Semarang</td>\n",
       "      <td>10000</td>\n",
       "      <td>4.5</td>\n",
       "      <td>NaN</td>\n",
       "      <td>{'lat': -7.209886700000002, 'lng': 110.3421119}</td>\n",
       "      <td>-7.209887</td>\n",
       "      <td>110.342112</td>\n",
       "    </tr>\n",
       "    <tr>\n",
       "      <th>335</th>\n",
       "      <td>336</td>\n",
       "      <td>Grand Maerakaca</td>\n",
       "      <td>Masyarakat Jawa Tengah mungkin sudah tidak asi...</td>\n",
       "      <td>Taman Hiburan</td>\n",
       "      <td>Semarang</td>\n",
       "      <td>15000</td>\n",
       "      <td>4.4</td>\n",
       "      <td>NaN</td>\n",
       "      <td>{'lat': -6.9605225, 'lng': 110.3863941}</td>\n",
       "      <td>-6.960522</td>\n",
       "      <td>110.386394</td>\n",
       "    </tr>\n",
       "    <tr>\n",
       "      <th>336</th>\n",
       "      <td>337</td>\n",
       "      <td>Kampung Pelangi</td>\n",
       "      <td>Kampung pelangi atau dalam bahasa Inggris dise...</td>\n",
       "      <td>Taman Hiburan</td>\n",
       "      <td>Semarang</td>\n",
       "      <td>3000</td>\n",
       "      <td>4.3</td>\n",
       "      <td>30.0</td>\n",
       "      <td>{'lat': -6.988881200000001, 'lng': 110.4083781}</td>\n",
       "      <td>-6.988881</td>\n",
       "      <td>110.408378</td>\n",
       "    </tr>\n",
       "    <tr>\n",
       "      <th>337</th>\n",
       "      <td>338</td>\n",
       "      <td>Lawang Sewu</td>\n",
       "      <td>Lawang Sewu (\"Seribu Pintu\") (bahasa Jawa: ꦭꦮꦁ...</td>\n",
       "      <td>Budaya</td>\n",
       "      <td>Semarang</td>\n",
       "      <td>10000</td>\n",
       "      <td>4.6</td>\n",
       "      <td>NaN</td>\n",
       "      <td>{'lat': -6.9839099, 'lng': 110.4104342}</td>\n",
       "      <td>-6.983910</td>\n",
       "      <td>110.410434</td>\n",
       "    </tr>\n",
       "    <tr>\n",
       "      <th>338</th>\n",
       "      <td>339</td>\n",
       "      <td>Sam Poo Kong Temple</td>\n",
       "      <td>Sam Poo Kong (Hanzi: ; Pinyin: Sānbǎo Dòng), j...</td>\n",
       "      <td>Budaya</td>\n",
       "      <td>Semarang</td>\n",
       "      <td>35000</td>\n",
       "      <td>4.5</td>\n",
       "      <td>NaN</td>\n",
       "      <td>{'lat': -6.996236599999999, 'lng': 110.398122}</td>\n",
       "      <td>-6.996237</td>\n",
       "      <td>110.398122</td>\n",
       "    </tr>\n",
       "  </tbody>\n",
       "</table>\n",
       "</div>"
      ],
      "text/plain": [
       "     Place_Id           Place_Name  \\\n",
       "334       335   Candi Gedong Songo   \n",
       "335       336      Grand Maerakaca   \n",
       "336       337      Kampung Pelangi   \n",
       "337       338          Lawang Sewu   \n",
       "338       339  Sam Poo Kong Temple   \n",
       "\n",
       "                                           Description       Category  \\\n",
       "334  Candi Gedong Songo (bahasa Jawa: ꦕꦤ꧀ꦝꦶ​ꦒꦼꦝꦺꦴꦁ​...         Budaya   \n",
       "335  Masyarakat Jawa Tengah mungkin sudah tidak asi...  Taman Hiburan   \n",
       "336  Kampung pelangi atau dalam bahasa Inggris dise...  Taman Hiburan   \n",
       "337  Lawang Sewu (\"Seribu Pintu\") (bahasa Jawa: ꦭꦮꦁ...         Budaya   \n",
       "338  Sam Poo Kong (Hanzi: ; Pinyin: Sānbǎo Dòng), j...         Budaya   \n",
       "\n",
       "         City  Price  Rating  Time_Minutes  \\\n",
       "334  Semarang  10000     4.5           NaN   \n",
       "335  Semarang  15000     4.4           NaN   \n",
       "336  Semarang   3000     4.3          30.0   \n",
       "337  Semarang  10000     4.6           NaN   \n",
       "338  Semarang  35000     4.5           NaN   \n",
       "\n",
       "                                          Coordinate       Lat        Long  \n",
       "334  {'lat': -7.209886700000002, 'lng': 110.3421119} -7.209887  110.342112  \n",
       "335          {'lat': -6.9605225, 'lng': 110.3863941} -6.960522  110.386394  \n",
       "336  {'lat': -6.988881200000001, 'lng': 110.4083781} -6.988881  110.408378  \n",
       "337          {'lat': -6.9839099, 'lng': 110.4104342} -6.983910  110.410434  \n",
       "338   {'lat': -6.996236599999999, 'lng': 110.398122} -6.996237  110.398122  "
      ]
     },
     "execution_count": 6,
     "metadata": {},
     "output_type": "execute_result"
    }
   ],
   "source": [
    "# Show just Semarang\n",
    "place = place[place['City']=='Semarang']\n",
    "place.head()"
   ]
  },
  {
   "cell_type": "code",
   "execution_count": 7,
   "id": "a3e3daa0",
   "metadata": {},
   "outputs": [
    {
     "name": "stdout",
     "output_type": "stream",
     "text": [
      "<class 'pandas.core.frame.DataFrame'>\n",
      "Int64Index: 57 entries, 334 to 390\n",
      "Data columns (total 11 columns):\n",
      " #   Column        Non-Null Count  Dtype  \n",
      "---  ------        --------------  -----  \n",
      " 0   Place_Id      57 non-null     int64  \n",
      " 1   Place_Name    57 non-null     object \n",
      " 2   Description   57 non-null     object \n",
      " 3   Category      57 non-null     object \n",
      " 4   City          57 non-null     object \n",
      " 5   Price         57 non-null     int64  \n",
      " 6   Rating        57 non-null     float64\n",
      " 7   Time_Minutes  28 non-null     float64\n",
      " 8   Coordinate    57 non-null     object \n",
      " 9   Lat           57 non-null     float64\n",
      " 10  Long          57 non-null     float64\n",
      "dtypes: float64(4), int64(2), object(5)\n",
      "memory usage: 5.3+ KB\n"
     ]
    }
   ],
   "source": [
    "place.info()"
   ]
  },
  {
   "cell_type": "code",
   "execution_count": 8,
   "id": "0e32e94a",
   "metadata": {},
   "outputs": [
    {
     "data": {
      "text/plain": [
       "True"
      ]
     },
     "execution_count": 8,
     "metadata": {},
     "output_type": "execute_result"
    }
   ],
   "source": [
    "# Checks the dataframe has an empty value or \"NaN\"\n",
    "place.isnull().values.any()"
   ]
  },
  {
   "cell_type": "code",
   "execution_count": 9,
   "id": "00e878eb",
   "metadata": {},
   "outputs": [
    {
     "data": {
      "text/plain": [
       "Index(['Time_Minutes'], dtype='object')"
      ]
     },
     "execution_count": 9,
     "metadata": {},
     "output_type": "execute_result"
    }
   ],
   "source": [
    "# Viewing the location in an empty dataframe column or \"NaN\"\n",
    "place.loc[:, place.isnull().any()].columns"
   ]
  },
  {
   "cell_type": "code",
   "execution_count": 10,
   "id": "70713591",
   "metadata": {},
   "outputs": [
    {
     "data": {
      "text/plain": [
       "Time_Minutes    29\n",
       "dtype: int64"
      ]
     },
     "execution_count": 10,
     "metadata": {},
     "output_type": "execute_result"
    }
   ],
   "source": [
    "# View the number of empty values (NaN)\n",
    "place.loc[:,list(place.loc[:,place.isnull().any()].columns)].isnull().sum()"
   ]
  },
  {
   "cell_type": "code",
   "execution_count": 11,
   "id": "916b06f1",
   "metadata": {},
   "outputs": [],
   "source": [
    "median_tm = place['Time_Minutes'].median()\n",
    "place['Time_Minutes']=place['Time_Minutes'].fillna(median_tm)"
   ]
  },
  {
   "cell_type": "code",
   "execution_count": 12,
   "id": "a1c0be31",
   "metadata": {},
   "outputs": [
    {
     "data": {
      "text/plain": [
       "(57, 11)"
      ]
     },
     "execution_count": 12,
     "metadata": {},
     "output_type": "execute_result"
    }
   ],
   "source": [
    "place.shape"
   ]
  },
  {
   "cell_type": "markdown",
   "id": "e42c2154",
   "metadata": {},
   "source": [
    "### Data Rating"
   ]
  },
  {
   "cell_type": "code",
   "execution_count": 13,
   "id": "84cd2b19",
   "metadata": {},
   "outputs": [
    {
     "data": {
      "text/html": [
       "<div>\n",
       "<style scoped>\n",
       "    .dataframe tbody tr th:only-of-type {\n",
       "        vertical-align: middle;\n",
       "    }\n",
       "\n",
       "    .dataframe tbody tr th {\n",
       "        vertical-align: top;\n",
       "    }\n",
       "\n",
       "    .dataframe thead th {\n",
       "        text-align: right;\n",
       "    }\n",
       "</style>\n",
       "<table border=\"1\" class=\"dataframe\">\n",
       "  <thead>\n",
       "    <tr style=\"text-align: right;\">\n",
       "      <th></th>\n",
       "      <th>User_Id</th>\n",
       "      <th>Place_Id</th>\n",
       "      <th>Place_Ratings</th>\n",
       "    </tr>\n",
       "  </thead>\n",
       "  <tbody>\n",
       "    <tr>\n",
       "      <th>0</th>\n",
       "      <td>1</td>\n",
       "      <td>179</td>\n",
       "      <td>3</td>\n",
       "    </tr>\n",
       "    <tr>\n",
       "      <th>1</th>\n",
       "      <td>1</td>\n",
       "      <td>344</td>\n",
       "      <td>2</td>\n",
       "    </tr>\n",
       "    <tr>\n",
       "      <th>2</th>\n",
       "      <td>1</td>\n",
       "      <td>5</td>\n",
       "      <td>5</td>\n",
       "    </tr>\n",
       "    <tr>\n",
       "      <th>3</th>\n",
       "      <td>1</td>\n",
       "      <td>373</td>\n",
       "      <td>3</td>\n",
       "    </tr>\n",
       "    <tr>\n",
       "      <th>4</th>\n",
       "      <td>1</td>\n",
       "      <td>101</td>\n",
       "      <td>4</td>\n",
       "    </tr>\n",
       "  </tbody>\n",
       "</table>\n",
       "</div>"
      ],
      "text/plain": [
       "   User_Id  Place_Id  Place_Ratings\n",
       "0        1       179              3\n",
       "1        1       344              2\n",
       "2        1         5              5\n",
       "3        1       373              3\n",
       "4        1       101              4"
      ]
     },
     "execution_count": 13,
     "metadata": {},
     "output_type": "execute_result"
    }
   ],
   "source": [
    "rating.head()"
   ]
  },
  {
   "cell_type": "code",
   "execution_count": 14,
   "id": "73a7ba37",
   "metadata": {},
   "outputs": [
    {
     "name": "stdout",
     "output_type": "stream",
     "text": [
      "<class 'pandas.core.frame.DataFrame'>\n",
      "RangeIndex: 10000 entries, 0 to 9999\n",
      "Data columns (total 3 columns):\n",
      " #   Column         Non-Null Count  Dtype\n",
      "---  ------         --------------  -----\n",
      " 0   User_Id        10000 non-null  int64\n",
      " 1   Place_Id       10000 non-null  int64\n",
      " 2   Place_Ratings  10000 non-null  int64\n",
      "dtypes: int64(3)\n",
      "memory usage: 234.5 KB\n"
     ]
    }
   ],
   "source": [
    "rating.info()"
   ]
  },
  {
   "cell_type": "code",
   "execution_count": 15,
   "id": "80d6d70f",
   "metadata": {},
   "outputs": [
    {
     "data": {
      "text/html": [
       "<div>\n",
       "<style scoped>\n",
       "    .dataframe tbody tr th:only-of-type {\n",
       "        vertical-align: middle;\n",
       "    }\n",
       "\n",
       "    .dataframe tbody tr th {\n",
       "        vertical-align: top;\n",
       "    }\n",
       "\n",
       "    .dataframe thead th {\n",
       "        text-align: right;\n",
       "    }\n",
       "</style>\n",
       "<table border=\"1\" class=\"dataframe\">\n",
       "  <thead>\n",
       "    <tr style=\"text-align: right;\">\n",
       "      <th></th>\n",
       "      <th>User_Id</th>\n",
       "      <th>Place_Id</th>\n",
       "      <th>Place_Ratings</th>\n",
       "    </tr>\n",
       "  </thead>\n",
       "  <tbody>\n",
       "    <tr>\n",
       "      <th>0</th>\n",
       "      <td>5</td>\n",
       "      <td>335</td>\n",
       "      <td>3</td>\n",
       "    </tr>\n",
       "    <tr>\n",
       "      <th>1</th>\n",
       "      <td>20</td>\n",
       "      <td>335</td>\n",
       "      <td>4</td>\n",
       "    </tr>\n",
       "    <tr>\n",
       "      <th>2</th>\n",
       "      <td>41</td>\n",
       "      <td>335</td>\n",
       "      <td>5</td>\n",
       "    </tr>\n",
       "    <tr>\n",
       "      <th>3</th>\n",
       "      <td>55</td>\n",
       "      <td>335</td>\n",
       "      <td>2</td>\n",
       "    </tr>\n",
       "    <tr>\n",
       "      <th>4</th>\n",
       "      <td>70</td>\n",
       "      <td>335</td>\n",
       "      <td>3</td>\n",
       "    </tr>\n",
       "  </tbody>\n",
       "</table>\n",
       "</div>"
      ],
      "text/plain": [
       "   User_Id  Place_Id  Place_Ratings\n",
       "0        5       335              3\n",
       "1       20       335              4\n",
       "2       41       335              5\n",
       "3       55       335              2\n",
       "4       70       335              3"
      ]
     },
     "execution_count": 15,
     "metadata": {},
     "output_type": "execute_result"
    }
   ],
   "source": [
    "# change data rating so that it will contain destination rating Semarang\n",
    "\n",
    "rating = pd.merge(rating, place[['Place_Id']], how='right', on='Place_Id')\n",
    "rating.head()"
   ]
  },
  {
   "cell_type": "code",
   "execution_count": 16,
   "id": "166b8d51",
   "metadata": {},
   "outputs": [
    {
     "data": {
      "text/plain": [
       "False"
      ]
     },
     "execution_count": 16,
     "metadata": {},
     "output_type": "execute_result"
    }
   ],
   "source": [
    "# Checks the dataframe has an empty value or \"NaN\"\n",
    "rating.isnull().values.any()"
   ]
  },
  {
   "cell_type": "code",
   "execution_count": 17,
   "id": "c14fc6b7",
   "metadata": {},
   "outputs": [
    {
     "data": {
      "text/plain": [
       "(1317, 3)"
      ]
     },
     "execution_count": 17,
     "metadata": {},
     "output_type": "execute_result"
    }
   ],
   "source": [
    "rating.shape"
   ]
  },
  {
   "cell_type": "markdown",
   "id": "b4a2cba5",
   "metadata": {},
   "source": [
    "### Data User"
   ]
  },
  {
   "cell_type": "code",
   "execution_count": 18,
   "id": "1851456b",
   "metadata": {},
   "outputs": [
    {
     "data": {
      "text/html": [
       "<div>\n",
       "<style scoped>\n",
       "    .dataframe tbody tr th:only-of-type {\n",
       "        vertical-align: middle;\n",
       "    }\n",
       "\n",
       "    .dataframe tbody tr th {\n",
       "        vertical-align: top;\n",
       "    }\n",
       "\n",
       "    .dataframe thead th {\n",
       "        text-align: right;\n",
       "    }\n",
       "</style>\n",
       "<table border=\"1\" class=\"dataframe\">\n",
       "  <thead>\n",
       "    <tr style=\"text-align: right;\">\n",
       "      <th></th>\n",
       "      <th>User_Id</th>\n",
       "      <th>Location</th>\n",
       "      <th>Age</th>\n",
       "    </tr>\n",
       "  </thead>\n",
       "  <tbody>\n",
       "    <tr>\n",
       "      <th>0</th>\n",
       "      <td>1</td>\n",
       "      <td>Semarang, Jawa Tengah</td>\n",
       "      <td>20</td>\n",
       "    </tr>\n",
       "    <tr>\n",
       "      <th>1</th>\n",
       "      <td>2</td>\n",
       "      <td>Bekasi, Jawa Barat</td>\n",
       "      <td>21</td>\n",
       "    </tr>\n",
       "    <tr>\n",
       "      <th>2</th>\n",
       "      <td>3</td>\n",
       "      <td>Cirebon, Jawa Barat</td>\n",
       "      <td>23</td>\n",
       "    </tr>\n",
       "    <tr>\n",
       "      <th>3</th>\n",
       "      <td>4</td>\n",
       "      <td>Bekasi, Jawa Barat</td>\n",
       "      <td>21</td>\n",
       "    </tr>\n",
       "    <tr>\n",
       "      <th>4</th>\n",
       "      <td>5</td>\n",
       "      <td>Lampung, Sumatera Selatan</td>\n",
       "      <td>20</td>\n",
       "    </tr>\n",
       "  </tbody>\n",
       "</table>\n",
       "</div>"
      ],
      "text/plain": [
       "   User_Id                   Location  Age\n",
       "0        1      Semarang, Jawa Tengah   20\n",
       "1        2         Bekasi, Jawa Barat   21\n",
       "2        3        Cirebon, Jawa Barat   23\n",
       "3        4         Bekasi, Jawa Barat   21\n",
       "4        5  Lampung, Sumatera Selatan   20"
      ]
     },
     "execution_count": 18,
     "metadata": {},
     "output_type": "execute_result"
    }
   ],
   "source": [
    "# look into respondents' data \n",
    "\n",
    "user.head()"
   ]
  },
  {
   "cell_type": "code",
   "execution_count": 19,
   "id": "f840799e",
   "metadata": {},
   "outputs": [
    {
     "data": {
      "text/html": [
       "<div>\n",
       "<style scoped>\n",
       "    .dataframe tbody tr th:only-of-type {\n",
       "        vertical-align: middle;\n",
       "    }\n",
       "\n",
       "    .dataframe tbody tr th {\n",
       "        vertical-align: top;\n",
       "    }\n",
       "\n",
       "    .dataframe thead th {\n",
       "        text-align: right;\n",
       "    }\n",
       "</style>\n",
       "<table border=\"1\" class=\"dataframe\">\n",
       "  <thead>\n",
       "    <tr style=\"text-align: right;\">\n",
       "      <th></th>\n",
       "      <th>User_Id</th>\n",
       "      <th>Location</th>\n",
       "      <th>Age</th>\n",
       "    </tr>\n",
       "  </thead>\n",
       "  <tbody>\n",
       "    <tr>\n",
       "      <th>23</th>\n",
       "      <td>1</td>\n",
       "      <td>Semarang, Jawa Tengah</td>\n",
       "      <td>20</td>\n",
       "    </tr>\n",
       "    <tr>\n",
       "      <th>725</th>\n",
       "      <td>2</td>\n",
       "      <td>Bekasi, Jawa Barat</td>\n",
       "      <td>21</td>\n",
       "    </tr>\n",
       "    <tr>\n",
       "      <th>1105</th>\n",
       "      <td>3</td>\n",
       "      <td>Cirebon, Jawa Barat</td>\n",
       "      <td>23</td>\n",
       "    </tr>\n",
       "    <tr>\n",
       "      <th>326</th>\n",
       "      <td>4</td>\n",
       "      <td>Bekasi, Jawa Barat</td>\n",
       "      <td>21</td>\n",
       "    </tr>\n",
       "    <tr>\n",
       "      <th>0</th>\n",
       "      <td>5</td>\n",
       "      <td>Lampung, Sumatera Selatan</td>\n",
       "      <td>20</td>\n",
       "    </tr>\n",
       "  </tbody>\n",
       "</table>\n",
       "</div>"
      ],
      "text/plain": [
       "      User_Id                   Location  Age\n",
       "23          1      Semarang, Jawa Tengah   20\n",
       "725         2         Bekasi, Jawa Barat   21\n",
       "1105        3        Cirebon, Jawa Barat   23\n",
       "326         4         Bekasi, Jawa Barat   21\n",
       "0           5  Lampung, Sumatera Selatan   20"
      ]
     },
     "execution_count": 19,
     "metadata": {},
     "output_type": "execute_result"
    }
   ],
   "source": [
    "# change respondents' data into Semarang destination visitors\n",
    "\n",
    "user = pd.merge(user, rating[['User_Id']], how='right', on='User_Id').drop_duplicates().sort_values('User_Id')\n",
    "user.head()"
   ]
  },
  {
   "cell_type": "code",
   "execution_count": 20,
   "id": "ef2c8ae8",
   "metadata": {},
   "outputs": [
    {
     "data": {
      "text/plain": [
       "False"
      ]
     },
     "execution_count": 20,
     "metadata": {},
     "output_type": "execute_result"
    }
   ],
   "source": [
    "# Checks the dataframe has an empty value or \"NaN\"\n",
    "user.isnull().values.any()"
   ]
  },
  {
   "cell_type": "code",
   "execution_count": 21,
   "id": "6b478f11",
   "metadata": {},
   "outputs": [
    {
     "data": {
      "text/plain": [
       "(297, 3)"
      ]
     },
     "execution_count": 21,
     "metadata": {},
     "output_type": "execute_result"
    }
   ],
   "source": [
    "user.shape"
   ]
  },
  {
   "cell_type": "markdown",
   "id": "0de01fc2",
   "metadata": {},
   "source": [
    "## Eksploratory Data Analysis"
   ]
  },
  {
   "cell_type": "code",
   "execution_count": 22,
   "id": "5714fbac",
   "metadata": {},
   "outputs": [
    {
     "data": {
      "image/png": "[encoded data removed]",
      "text/plain": [
       "<Figure size 576x360 with 1 Axes>"
      ]
     },
     "metadata": {},
     "output_type": "display_data"
    }
   ],
   "source": [
    "# creating datafram that contains locations with most rating\n",
    "top_10 = rating['Place_Id'].value_counts().reset_index()[0:10]\n",
    "top_10 = pd.merge(top_10, place[['Place_Id','Place_Name']], how='left', left_on='index', right_on='Place_Id')\n",
    "\n",
    "# creating visualization that contains most visited destinations\n",
    "plt.figure(figsize=(8,5))\n",
    "sns.barplot('Place_Id_x', 'Place_Name', data=top_10)\n",
    "plt.title('Sum of Most Rated Destinations', pad=20)\n",
    "plt.xlabel('Sum of Rating')\n",
    "plt.ylabel('Location Name')\n",
    "plt.show()"
   ]
  },
  {
   "cell_type": "code",
   "execution_count": 23,
   "id": "858eacfa",
   "metadata": {},
   "outputs": [
    {
     "data": {
      "text/plain": [
       "Cagar Alam       20\n",
       "Budaya           15\n",
       "Taman Hiburan    15\n",
       "Bahari            4\n",
       "Tempat Ibadah     3\n",
       "Name: Category, dtype: int64"
      ]
     },
     "execution_count": 23,
     "metadata": {},
     "output_type": "execute_result"
    }
   ],
   "source": [
    "place['Category'].value_counts()"
   ]
  },
  {
   "cell_type": "code",
   "execution_count": 24,
   "id": "e512e408",
   "metadata": {},
   "outputs": [],
   "source": [
    "# changing the naming into English\n",
    "place.Category[place.Category == 'Cagar Alam'] = 'National Park'\n",
    "place.Category[place.Category == 'Budaya'] = 'Culture'\n",
    "place.Category[place.Category == 'Taman Hiburan'] = 'Amusement Park'\n",
    "place.Category[place.Category == 'Tempat Ibadah'] = 'Worship place'\n",
    "place.Category[place.Category == 'Bahari'] = 'Marine Tourism'"
   ]
  },
  {
   "cell_type": "code",
   "execution_count": 25,
   "id": "dd4f93c3",
   "metadata": {},
   "outputs": [
    {
     "data": {
      "image/png": "[encoded data removed]",
      "text/plain": [
       "<Figure size 432x288 with 1 Axes>"
      ]
     },
     "metadata": {},
     "output_type": "display_data"
    }
   ],
   "source": [
    "# creating visualization of sum category for Yogyakarta destinations\n",
    "\n",
    "sns.countplot(y='Category', data=place, order = place['Category'].value_counts().index)\n",
    "plt.title('Comparison of Summary Tourism Category in Semarang', pad=20)\n",
    "plt.show()"
   ]
  },
  {
   "cell_type": "code",
   "execution_count": 26,
   "id": "857da82b",
   "metadata": {},
   "outputs": [
    {
     "data": {
      "image/png": "[encoded data removed]",
      "text/plain": [
       "<Figure size 360x216 with 1 Axes>"
      ]
     },
     "metadata": {},
     "output_type": "display_data"
    }
   ],
   "source": [
    "# visualizing visitors distribution \n",
    "\n",
    "plt.figure(figsize=(5,3))\n",
    "sns.distplot(user['Age']);\n",
    "plt.title('Visitor Age Distribution', pad=20)\n",
    "plt.show()"
   ]
  },
  {
   "cell_type": "code",
   "execution_count": 27,
   "id": "9f797ce2",
   "metadata": {},
   "outputs": [
    {
     "data": {
      "image/png": "[encoded data removed]",
      "text/plain": [
       "<Figure size 864x432 with 1 Axes>"
      ]
     },
     "metadata": {},
     "output_type": "display_data"
    }
   ],
   "source": [
    "# visualizing entrance fee range for destinations\n",
    "\n",
    "plt.figure(figsize=(12,6))\n",
    "sns.distplot(place['Price'])\n",
    "plt.title('Entrance Free Distribution for Semarang Tourist Destination', pad=20)\n",
    "plt.show()"
   ]
  },
  {
   "cell_type": "code",
   "execution_count": 28,
   "id": "ea328c89",
   "metadata": {},
   "outputs": [
    {
     "data": {
      "image/png": "[encoded data removed]",
      "text/plain": [
       "<Figure size 576x432 with 1 Axes>"
      ]
     },
     "metadata": {},
     "output_type": "display_data"
    }
   ],
   "source": [
    "# filtering city origin of visitors\n",
    "askot = user['Location'].apply(lambda x : x.split(',')[0])\n",
    "\n",
    "# visualizing city origin of visitors\n",
    "plt.figure(figsize=(8,6))\n",
    "sns.countplot(y=askot, order = askot.value_counts().index)\n",
    "plt.title('Sum of Visitors Origin')\n",
    "plt.show()"
   ]
  },
  {
   "cell_type": "markdown",
   "id": "df8a514e",
   "metadata": {},
   "source": [
    "## Modeling"
   ]
  },
  {
   "cell_type": "code",
   "execution_count": 29,
   "id": "67d2340c",
   "metadata": {},
   "outputs": [
    {
     "data": {
      "text/html": [
       "<div>\n",
       "<style scoped>\n",
       "    .dataframe tbody tr th:only-of-type {\n",
       "        vertical-align: middle;\n",
       "    }\n",
       "\n",
       "    .dataframe tbody tr th {\n",
       "        vertical-align: top;\n",
       "    }\n",
       "\n",
       "    .dataframe thead th {\n",
       "        text-align: right;\n",
       "    }\n",
       "</style>\n",
       "<table border=\"1\" class=\"dataframe\">\n",
       "  <thead>\n",
       "    <tr style=\"text-align: right;\">\n",
       "      <th></th>\n",
       "      <th>User_Id</th>\n",
       "      <th>Place_Id</th>\n",
       "      <th>Place_Ratings</th>\n",
       "    </tr>\n",
       "  </thead>\n",
       "  <tbody>\n",
       "    <tr>\n",
       "      <th>0</th>\n",
       "      <td>5</td>\n",
       "      <td>335</td>\n",
       "      <td>3</td>\n",
       "    </tr>\n",
       "    <tr>\n",
       "      <th>1</th>\n",
       "      <td>20</td>\n",
       "      <td>335</td>\n",
       "      <td>4</td>\n",
       "    </tr>\n",
       "    <tr>\n",
       "      <th>2</th>\n",
       "      <td>41</td>\n",
       "      <td>335</td>\n",
       "      <td>5</td>\n",
       "    </tr>\n",
       "    <tr>\n",
       "      <th>3</th>\n",
       "      <td>55</td>\n",
       "      <td>335</td>\n",
       "      <td>2</td>\n",
       "    </tr>\n",
       "    <tr>\n",
       "      <th>4</th>\n",
       "      <td>70</td>\n",
       "      <td>335</td>\n",
       "      <td>3</td>\n",
       "    </tr>\n",
       "  </tbody>\n",
       "</table>\n",
       "</div>"
      ],
      "text/plain": [
       "   User_Id  Place_Id  Place_Ratings\n",
       "0        5       335              3\n",
       "1       20       335              4\n",
       "2       41       335              5\n",
       "3       55       335              2\n",
       "4       70       335              3"
      ]
     },
     "execution_count": 29,
     "metadata": {},
     "output_type": "execute_result"
    }
   ],
   "source": [
    "# reading dataset for encoding\n",
    " \n",
    "data = rating.copy()\n",
    "data.head()"
   ]
  },
  {
   "cell_type": "code",
   "execution_count": 30,
   "id": "cb2ffae7",
   "metadata": {},
   "outputs": [],
   "source": [
    "def dict_encoder(col, data=data):\n",
    "    # changing column of dataframe into list with unique value\n",
    "    unique_val = data[col].unique().tolist()\n",
    "\n",
    "    # enumerating column value of dataframe \n",
    "    val_to_val_encoded = {x: i for i, x in enumerate(unique_val)}\n",
    "\n",
    "    # encoding process from numbers to column value of dataframe\n",
    "    val_encoded_to_val = {i: x for i, x in enumerate(unique_val)}\n",
    "    return val_to_val_encoded, val_encoded_to_val"
   ]
  },
  {
   "cell_type": "code",
   "execution_count": 31,
   "id": "07cb89ab",
   "metadata": {},
   "outputs": [],
   "source": [
    "# Encoding User_Id\n",
    "user_to_user_encoded, user_encoded_to_user = dict_encoder('User_Id')\n",
    "\n",
    "# Mapping User_Id into dataframe\n",
    "data['user'] = data['User_Id'].map(user_to_user_encoded)"
   ]
  },
  {
   "cell_type": "code",
   "execution_count": 32,
   "id": "b156966d",
   "metadata": {},
   "outputs": [],
   "source": [
    "# Encoding Place_Id\n",
    "place_to_place_encoded, place_encoded_to_place = dict_encoder('Place_Id')\n",
    "\n",
    "# Mapping Place_Id into dataframe place\n",
    "data['place'] = data['Place_Id'].map(place_to_place_encoded)"
   ]
  },
  {
   "cell_type": "code",
   "execution_count": 33,
   "id": "ffec70d7",
   "metadata": {},
   "outputs": [
    {
     "name": "stdout",
     "output_type": "stream",
     "text": [
      "Number of User: 297 \n",
      "Number of Place: 57 \n",
      "Min Rating: 1.0 \n",
      "Max Rating: 5.0\n"
     ]
    }
   ],
   "source": [
    "# getting length of user & place \n",
    "num_users, num_place = len(user_to_user_encoded), len(place_to_place_encoded)\n",
    " \n",
    "# changing rating into float\n",
    "data['Place_Ratings'] = data['Place_Ratings'].values.astype(np.float32)\n",
    " \n",
    "# getting minimum and maximum rating\n",
    "min_rating, max_rating = min(data['Place_Ratings']), max(data['Place_Ratings'])\n",
    " \n",
    "print(f'Number of User: {num_users} \\nNumber of Place: {num_place} \\nMin Rating: {min_rating} \\nMax Rating: {max_rating}')"
   ]
  },
  {
   "cell_type": "code",
   "execution_count": 34,
   "id": "2fc1f74a",
   "metadata": {},
   "outputs": [
    {
     "data": {
      "text/html": [
       "<div>\n",
       "<style scoped>\n",
       "    .dataframe tbody tr th:only-of-type {\n",
       "        vertical-align: middle;\n",
       "    }\n",
       "\n",
       "    .dataframe tbody tr th {\n",
       "        vertical-align: top;\n",
       "    }\n",
       "\n",
       "    .dataframe thead th {\n",
       "        text-align: right;\n",
       "    }\n",
       "</style>\n",
       "<table border=\"1\" class=\"dataframe\">\n",
       "  <thead>\n",
       "    <tr style=\"text-align: right;\">\n",
       "      <th></th>\n",
       "      <th>User_Id</th>\n",
       "      <th>Place_Id</th>\n",
       "      <th>Place_Ratings</th>\n",
       "      <th>user</th>\n",
       "      <th>place</th>\n",
       "    </tr>\n",
       "  </thead>\n",
       "  <tbody>\n",
       "    <tr>\n",
       "      <th>261</th>\n",
       "      <td>83</td>\n",
       "      <td>345</td>\n",
       "      <td>4.0</td>\n",
       "      <td>176</td>\n",
       "      <td>10</td>\n",
       "    </tr>\n",
       "    <tr>\n",
       "      <th>991</th>\n",
       "      <td>47</td>\n",
       "      <td>377</td>\n",
       "      <td>1.0</td>\n",
       "      <td>173</td>\n",
       "      <td>42</td>\n",
       "    </tr>\n",
       "    <tr>\n",
       "      <th>554</th>\n",
       "      <td>288</td>\n",
       "      <td>358</td>\n",
       "      <td>5.0</td>\n",
       "      <td>225</td>\n",
       "      <td>23</td>\n",
       "    </tr>\n",
       "    <tr>\n",
       "      <th>49</th>\n",
       "      <td>255</td>\n",
       "      <td>336</td>\n",
       "      <td>5.0</td>\n",
       "      <td>44</td>\n",
       "      <td>1</td>\n",
       "    </tr>\n",
       "    <tr>\n",
       "      <th>857</th>\n",
       "      <td>238</td>\n",
       "      <td>371</td>\n",
       "      <td>3.0</td>\n",
       "      <td>228</td>\n",
       "      <td>36</td>\n",
       "    </tr>\n",
       "  </tbody>\n",
       "</table>\n",
       "</div>"
      ],
      "text/plain": [
       "     User_Id  Place_Id  Place_Ratings  user  place\n",
       "261       83       345            4.0   176     10\n",
       "991       47       377            1.0   173     42\n",
       "554      288       358            5.0   225     23\n",
       "49       255       336            5.0    44      1\n",
       "857      238       371            3.0   228     36"
      ]
     },
     "execution_count": 34,
     "metadata": {},
     "output_type": "execute_result"
    }
   ],
   "source": [
    "# randomizing dataset\n",
    "data = data.sample(frac=1, random_state=42)\n",
    "data.head()"
   ]
  },
  {
   "cell_type": "code",
   "execution_count": 35,
   "id": "0350d596",
   "metadata": {},
   "outputs": [],
   "source": [
    "# create variabel x for match data user and place become one value\n",
    "x = data[['user', 'place']].values\n",
    " \n",
    "# create variabel y for make rating from result \n",
    "y = data['Place_Ratings'].apply(lambda x: (x - min_rating) / (max_rating - min_rating)).values\n",
    " \n",
    "# split data with 80% data train dan 20% data validasi\n",
    "train_indices = int(0.8 * data.shape[0])\n",
    "from sklearn.model_selection import train_test_split\n",
    "\n",
    "x_train, x_val, y_train, y_val = train_test_split(x,y,train_size=.8, random_state=123)"
   ]
  },
  {
   "cell_type": "code",
   "execution_count": 36,
   "id": "f147a775",
   "metadata": {},
   "outputs": [],
   "source": [
    "class RecommenderNet(tf.keras.Model):\n",
    " \n",
    "    # Function initialization\n",
    "    def __init__(self, num_users, num_places, embedding_size, **kwargs):\n",
    "        super(RecommenderNet, self).__init__(**kwargs)\n",
    "        self.num_users = num_users\n",
    "        self.num_places = num_places\n",
    "        self.embedding_size = embedding_size\n",
    "        self.user_embedding = layers.Embedding( # layer embedding user\n",
    "            num_users,\n",
    "            embedding_size,\n",
    "            embeddings_initializer = 'he_normal',\n",
    "            embeddings_regularizer = keras.regularizers.l2(1e-6)\n",
    "        )\n",
    "        self.user_bias = layers.Embedding(num_users, 1) # layer embedding user bias\n",
    "        self.places_embedding = layers.Embedding( # layer embeddings places\n",
    "            num_places,\n",
    "            embedding_size,\n",
    "            embeddings_initializer = 'he_normal',\n",
    "            embeddings_regularizer = keras.regularizers.l2(1e-6)\n",
    "        )\n",
    "        self.places_bias = layers.Embedding(num_places, 1) # layer embedding places bias\n",
    " \n",
    "    def call(self, inputs):\n",
    "        user_vector = self.user_embedding(inputs[:,0]) # layer embedding 1\n",
    "        user_bias = self.user_bias(inputs[:, 0]) # layer embedding 2\n",
    "        places_vector = self.places_embedding(inputs[:, 1]) # layer embedding 3\n",
    "        places_bias = self.places_bias(inputs[:, 1]) # layer embedding 4\n",
    "\n",
    "        dot_user_places = tf.tensordot(user_vector, places_vector, 2) \n",
    "\n",
    "        x = dot_user_places + user_bias + places_bias\n",
    "\n",
    "        return tf.nn.sigmoid(x) # activation sigmoid"
   ]
  },
  {
   "cell_type": "code",
   "execution_count": 37,
   "id": "fcb875cc",
   "metadata": {},
   "outputs": [],
   "source": [
    "model = RecommenderNet(num_users, num_place, 50) # model initialization\n",
    " \n",
    "# model compile\n",
    "model.compile(\n",
    "    loss = tf.keras.losses.BinaryCrossentropy(),\n",
    "    optimizer = keras.optimizers.Adam(learning_rate=0.001),\n",
    "    metrics=[tf.keras.metrics.RootMeanSquaredError()]\n",
    ")"
   ]
  },
  {
   "cell_type": "code",
   "execution_count": 38,
   "id": "df4c482f",
   "metadata": {},
   "outputs": [
    {
     "name": "stdout",
     "output_type": "stream",
     "text": [
      "Epoch 1/100\n",
      "33/33 [==============================] - 2s 16ms/step - loss: 0.7300 - root_mean_squared_error: 0.3666 - val_loss: 0.7258 - val_root_mean_squared_error: 0.3697\n",
      "Epoch 2/100\n",
      "33/33 [==============================] - 0s 4ms/step - loss: 0.7314 - root_mean_squared_error: 0.3677 - val_loss: 0.7278 - val_root_mean_squared_error: 0.3708\n",
      "Epoch 3/100\n",
      "33/33 [==============================] - 0s 4ms/step - loss: 0.7295 - root_mean_squared_error: 0.3676 - val_loss: 0.7286 - val_root_mean_squared_error: 0.3710\n",
      "Epoch 4/100\n",
      "33/33 [==============================] - 0s 4ms/step - loss: 0.7256 - root_mean_squared_error: 0.3655 - val_loss: 0.7285 - val_root_mean_squared_error: 0.3705\n",
      "Epoch 5/100\n",
      "33/33 [==============================] - 0s 5ms/step - loss: 0.7446 - root_mean_squared_error: 0.3750 - val_loss: 0.7269 - val_root_mean_squared_error: 0.3699\n",
      "Epoch 6/100\n",
      "33/33 [==============================] - 0s 4ms/step - loss: 0.7141 - root_mean_squared_error: 0.3572 - val_loss: 0.7226 - val_root_mean_squared_error: 0.3676\n",
      "Epoch 7/100\n",
      "33/33 [==============================] - 0s 4ms/step - loss: 0.7125 - root_mean_squared_error: 0.3570 - val_loss: 0.7206 - val_root_mean_squared_error: 0.3665\n",
      "Epoch 8/100\n",
      "33/33 [==============================] - 0s 4ms/step - loss: 0.7162 - root_mean_squared_error: 0.3574 - val_loss: 0.7216 - val_root_mean_squared_error: 0.3671\n",
      "Epoch 9/100\n",
      "33/33 [==============================] - 0s 3ms/step - loss: 0.7130 - root_mean_squared_error: 0.3563 - val_loss: 0.7237 - val_root_mean_squared_error: 0.3684\n",
      "Epoch 10/100\n",
      "33/33 [==============================] - 0s 8ms/step - loss: 0.7206 - root_mean_squared_error: 0.3618 - val_loss: 0.7266 - val_root_mean_squared_error: 0.3702\n",
      "Epoch 11/100\n",
      "33/33 [==============================] - 0s 5ms/step - loss: 0.7159 - root_mean_squared_error: 0.3588 - val_loss: 0.7266 - val_root_mean_squared_error: 0.3701\n",
      "Epoch 12/100\n",
      "33/33 [==============================] - 0s 6ms/step - loss: 0.7114 - root_mean_squared_error: 0.3565 - val_loss: 0.7239 - val_root_mean_squared_error: 0.3685\n",
      "Epoch 13/100\n",
      "33/33 [==============================] - 0s 5ms/step - loss: 0.7199 - root_mean_squared_error: 0.3616 - val_loss: 0.7208 - val_root_mean_squared_error: 0.3668\n",
      "Epoch 14/100\n",
      "33/33 [==============================] - 0s 6ms/step - loss: 0.6978 - root_mean_squared_error: 0.3471 - val_loss: 0.7207 - val_root_mean_squared_error: 0.3668\n",
      "Epoch 15/100\n",
      "33/33 [==============================] - 0s 5ms/step - loss: 0.7220 - root_mean_squared_error: 0.3609 - val_loss: 0.7222 - val_root_mean_squared_error: 0.3676\n",
      "Epoch 16/100\n",
      "33/33 [==============================] - 0s 6ms/step - loss: 0.7127 - root_mean_squared_error: 0.3564 - val_loss: 0.7225 - val_root_mean_squared_error: 0.3677\n",
      "Epoch 17/100\n",
      "33/33 [==============================] - 0s 10ms/step - loss: 0.7264 - root_mean_squared_error: 0.3637 - val_loss: 0.7220 - val_root_mean_squared_error: 0.3675\n",
      "Epoch 18/100\n",
      "33/33 [==============================] - 0s 6ms/step - loss: 0.7058 - root_mean_squared_error: 0.3526 - val_loss: 0.7249 - val_root_mean_squared_error: 0.3692\n",
      "Epoch 19/100\n",
      "33/33 [==============================] - 0s 7ms/step - loss: 0.7038 - root_mean_squared_error: 0.3500 - val_loss: 0.7241 - val_root_mean_squared_error: 0.3688\n",
      "Epoch 20/100\n",
      "33/33 [==============================] - 0s 5ms/step - loss: 0.6896 - root_mean_squared_error: 0.3417 - val_loss: 0.7234 - val_root_mean_squared_error: 0.3684\n",
      "Epoch 21/100\n",
      "33/33 [==============================] - 0s 4ms/step - loss: 0.6845 - root_mean_squared_error: 0.3380 - val_loss: 0.7253 - val_root_mean_squared_error: 0.3695\n",
      "Epoch 22/100\n",
      "33/33 [==============================] - 0s 4ms/step - loss: 0.6953 - root_mean_squared_error: 0.3447 - val_loss: 0.7226 - val_root_mean_squared_error: 0.3678\n",
      "Epoch 23/100\n",
      "33/33 [==============================] - 0s 4ms/step - loss: 0.6857 - root_mean_squared_error: 0.3385 - val_loss: 0.7235 - val_root_mean_squared_error: 0.3684\n",
      "Epoch 24/100\n",
      "33/33 [==============================] - 0s 4ms/step - loss: 0.6822 - root_mean_squared_error: 0.3361 - val_loss: 0.7264 - val_root_mean_squared_error: 0.3700\n",
      "Epoch 25/100\n",
      "33/33 [==============================] - 0s 5ms/step - loss: 0.6979 - root_mean_squared_error: 0.3469 - val_loss: 0.7248 - val_root_mean_squared_error: 0.3691\n",
      "Epoch 26/100\n",
      "33/33 [==============================] - 0s 4ms/step - loss: 0.6958 - root_mean_squared_error: 0.3451 - val_loss: 0.7252 - val_root_mean_squared_error: 0.3693\n",
      "Epoch 27/100\n",
      "33/33 [==============================] - 0s 4ms/step - loss: 0.6807 - root_mean_squared_error: 0.3351 - val_loss: 0.7259 - val_root_mean_squared_error: 0.3697\n",
      "Epoch 28/100\n",
      "33/33 [==============================] - 0s 4ms/step - loss: 0.6840 - root_mean_squared_error: 0.3373 - val_loss: 0.7260 - val_root_mean_squared_error: 0.3698\n",
      "Epoch 29/100\n",
      "33/33 [==============================] - 0s 4ms/step - loss: 0.6866 - root_mean_squared_error: 0.3387 - val_loss: 0.7276 - val_root_mean_squared_error: 0.3706\n",
      "Epoch 30/100\n",
      "33/33 [==============================] - 0s 4ms/step - loss: 0.6750 - root_mean_squared_error: 0.3308 - val_loss: 0.7283 - val_root_mean_squared_error: 0.3711\n",
      "Epoch 31/100\n",
      "33/33 [==============================] - 0s 4ms/step - loss: 0.6962 - root_mean_squared_error: 0.3447 - val_loss: 0.7244 - val_root_mean_squared_error: 0.3689\n",
      "Epoch 32/100\n",
      "33/33 [==============================] - 0s 4ms/step - loss: 0.6767 - root_mean_squared_error: 0.3322 - val_loss: 0.7244 - val_root_mean_squared_error: 0.3689\n",
      "Epoch 33/100\n",
      "33/33 [==============================] - 0s 3ms/step - loss: 0.6858 - root_mean_squared_error: 0.3386 - val_loss: 0.7236 - val_root_mean_squared_error: 0.3685\n",
      "Epoch 34/100\n",
      "33/33 [==============================] - 0s 3ms/step - loss: 0.6813 - root_mean_squared_error: 0.3353 - val_loss: 0.7236 - val_root_mean_squared_error: 0.3684\n",
      "Epoch 35/100\n",
      "33/33 [==============================] - 0s 3ms/step - loss: 0.6829 - root_mean_squared_error: 0.3366 - val_loss: 0.7221 - val_root_mean_squared_error: 0.3676\n",
      "Epoch 36/100\n",
      "33/33 [==============================] - 0s 4ms/step - loss: 0.6726 - root_mean_squared_error: 0.3295 - val_loss: 0.7218 - val_root_mean_squared_error: 0.3674\n",
      "Epoch 37/100\n",
      "33/33 [==============================] - 0s 4ms/step - loss: 0.6715 - root_mean_squared_error: 0.3286 - val_loss: 0.7210 - val_root_mean_squared_error: 0.3669\n",
      "Epoch 38/100\n",
      "33/33 [==============================] - 0s 4ms/step - loss: 0.6742 - root_mean_squared_error: 0.3303 - val_loss: 0.7212 - val_root_mean_squared_error: 0.3671\n",
      "Epoch 39/100\n",
      "33/33 [==============================] - 0s 3ms/step - loss: 0.6735 - root_mean_squared_error: 0.3296 - val_loss: 0.7236 - val_root_mean_squared_error: 0.3685\n",
      "Epoch 40/100\n",
      "33/33 [==============================] - 0s 4ms/step - loss: 0.6677 - root_mean_squared_error: 0.3259 - val_loss: 0.7234 - val_root_mean_squared_error: 0.3684\n",
      "Epoch 41/100\n",
      "33/33 [==============================] - 0s 3ms/step - loss: 0.6717 - root_mean_squared_error: 0.3284 - val_loss: 0.7241 - val_root_mean_squared_error: 0.3688\n",
      "Epoch 42/100\n",
      "33/33 [==============================] - 0s 3ms/step - loss: 0.6730 - root_mean_squared_error: 0.3296 - val_loss: 0.7247 - val_root_mean_squared_error: 0.3692\n",
      "Epoch 43/100\n",
      "33/33 [==============================] - 0s 4ms/step - loss: 0.6738 - root_mean_squared_error: 0.3304 - val_loss: 0.7268 - val_root_mean_squared_error: 0.3704\n",
      "Epoch 44/100\n",
      "33/33 [==============================] - 0s 4ms/step - loss: 0.6615 - root_mean_squared_error: 0.3212 - val_loss: 0.7264 - val_root_mean_squared_error: 0.3703\n",
      "Epoch 45/100\n",
      "33/33 [==============================] - 0s 4ms/step - loss: 0.6672 - root_mean_squared_error: 0.3253 - val_loss: 0.7281 - val_root_mean_squared_error: 0.3713\n",
      "Epoch 46/100\n",
      "33/33 [==============================] - 0s 3ms/step - loss: 0.6706 - root_mean_squared_error: 0.3275 - val_loss: 0.7275 - val_root_mean_squared_error: 0.3709\n",
      "Epoch 47/100\n",
      "33/33 [==============================] - 0s 4ms/step - loss: 0.6699 - root_mean_squared_error: 0.3272 - val_loss: 0.7296 - val_root_mean_squared_error: 0.3720\n",
      "Epoch 48/100\n",
      "33/33 [==============================] - 0s 4ms/step - loss: 0.6636 - root_mean_squared_error: 0.3228 - val_loss: 0.7291 - val_root_mean_squared_error: 0.3717\n",
      "Epoch 49/100\n",
      "33/33 [==============================] - 0s 3ms/step - loss: 0.6701 - root_mean_squared_error: 0.3272 - val_loss: 0.7291 - val_root_mean_squared_error: 0.3717\n",
      "Epoch 50/100\n",
      "33/33 [==============================] - 0s 4ms/step - loss: 0.6605 - root_mean_squared_error: 0.3203 - val_loss: 0.7309 - val_root_mean_squared_error: 0.3727\n",
      "Epoch 51/100\n",
      "33/33 [==============================] - 0s 4ms/step - loss: 0.6698 - root_mean_squared_error: 0.3272 - val_loss: 0.7305 - val_root_mean_squared_error: 0.3724\n",
      "Epoch 52/100\n",
      "33/33 [==============================] - 0s 3ms/step - loss: 0.6588 - root_mean_squared_error: 0.3191 - val_loss: 0.7295 - val_root_mean_squared_error: 0.3719\n",
      "Epoch 53/100\n",
      "33/33 [==============================] - 0s 4ms/step - loss: 0.6611 - root_mean_squared_error: 0.3211 - val_loss: 0.7296 - val_root_mean_squared_error: 0.3719\n",
      "Epoch 54/100\n",
      "33/33 [==============================] - 0s 3ms/step - loss: 0.6618 - root_mean_squared_error: 0.3215 - val_loss: 0.7283 - val_root_mean_squared_error: 0.3713\n",
      "Epoch 55/100\n",
      "33/33 [==============================] - 0s 4ms/step - loss: 0.6584 - root_mean_squared_error: 0.3189 - val_loss: 0.7276 - val_root_mean_squared_error: 0.3709\n",
      "Epoch 56/100\n",
      "33/33 [==============================] - 0s 3ms/step - loss: 0.6666 - root_mean_squared_error: 0.3252 - val_loss: 0.7291 - val_root_mean_squared_error: 0.3717\n",
      "Epoch 57/100\n",
      "33/33 [==============================] - 0s 4ms/step - loss: 0.6557 - root_mean_squared_error: 0.3171 - val_loss: 0.7312 - val_root_mean_squared_error: 0.3729\n",
      "Epoch 58/100\n",
      "33/33 [==============================] - 0s 4ms/step - loss: 0.6527 - root_mean_squared_error: 0.3148 - val_loss: 0.7319 - val_root_mean_squared_error: 0.3734\n",
      "Epoch 59/100\n",
      "33/33 [==============================] - 0s 3ms/step - loss: 0.6504 - root_mean_squared_error: 0.3131 - val_loss: 0.7316 - val_root_mean_squared_error: 0.3733\n",
      "Epoch 60/100\n",
      "33/33 [==============================] - 0s 3ms/step - loss: 0.6588 - root_mean_squared_error: 0.3190 - val_loss: 0.7316 - val_root_mean_squared_error: 0.3734\n",
      "Epoch 61/100\n",
      "33/33 [==============================] - 0s 4ms/step - loss: 0.6506 - root_mean_squared_error: 0.3128 - val_loss: 0.7329 - val_root_mean_squared_error: 0.3741\n",
      "Epoch 62/100\n",
      "33/33 [==============================] - 0s 4ms/step - loss: 0.6465 - root_mean_squared_error: 0.3098 - val_loss: 0.7345 - val_root_mean_squared_error: 0.3750\n",
      "Epoch 63/100\n",
      "33/33 [==============================] - 0s 4ms/step - loss: 0.6571 - root_mean_squared_error: 0.3181 - val_loss: 0.7334 - val_root_mean_squared_error: 0.3744\n",
      "Epoch 64/100\n",
      "33/33 [==============================] - 0s 3ms/step - loss: 0.6539 - root_mean_squared_error: 0.3156 - val_loss: 0.7338 - val_root_mean_squared_error: 0.3746\n",
      "Epoch 65/100\n",
      "33/33 [==============================] - 0s 4ms/step - loss: 0.6547 - root_mean_squared_error: 0.3161 - val_loss: 0.7339 - val_root_mean_squared_error: 0.3748\n",
      "Epoch 66/100\n",
      "33/33 [==============================] - 0s 3ms/step - loss: 0.6581 - root_mean_squared_error: 0.3185 - val_loss: 0.7346 - val_root_mean_squared_error: 0.3752\n",
      "Epoch 67/100\n",
      "33/33 [==============================] - 0s 4ms/step - loss: 0.6512 - root_mean_squared_error: 0.3134 - val_loss: 0.7338 - val_root_mean_squared_error: 0.3747\n",
      "Epoch 68/100\n",
      "33/33 [==============================] - 0s 4ms/step - loss: 0.6528 - root_mean_squared_error: 0.3151 - val_loss: 0.7341 - val_root_mean_squared_error: 0.3749\n",
      "Epoch 69/100\n",
      "33/33 [==============================] - 0s 4ms/step - loss: 0.6534 - root_mean_squared_error: 0.3146 - val_loss: 0.7336 - val_root_mean_squared_error: 0.3746\n",
      "Epoch 70/100\n",
      "33/33 [==============================] - 0s 4ms/step - loss: 0.6486 - root_mean_squared_error: 0.3115 - val_loss: 0.7342 - val_root_mean_squared_error: 0.3750\n",
      "Epoch 71/100\n",
      "33/33 [==============================] - 0s 3ms/step - loss: 0.6529 - root_mean_squared_error: 0.3147 - val_loss: 0.7360 - val_root_mean_squared_error: 0.3761\n",
      "Epoch 72/100\n",
      "33/33 [==============================] - 0s 4ms/step - loss: 0.6518 - root_mean_squared_error: 0.3139 - val_loss: 0.7360 - val_root_mean_squared_error: 0.3760\n",
      "Epoch 73/100\n",
      "33/33 [==============================] - 0s 3ms/step - loss: 0.6485 - root_mean_squared_error: 0.3112 - val_loss: 0.7364 - val_root_mean_squared_error: 0.3762\n",
      "Epoch 74/100\n",
      "33/33 [==============================] - 0s 3ms/step - loss: 0.6497 - root_mean_squared_error: 0.3124 - val_loss: 0.7360 - val_root_mean_squared_error: 0.3760\n",
      "Epoch 75/100\n",
      "33/33 [==============================] - 0s 4ms/step - loss: 0.6520 - root_mean_squared_error: 0.3142 - val_loss: 0.7367 - val_root_mean_squared_error: 0.3764\n",
      "Epoch 76/100\n",
      "33/33 [==============================] - 0s 4ms/step - loss: 0.6464 - root_mean_squared_error: 0.3097 - val_loss: 0.7371 - val_root_mean_squared_error: 0.3766\n",
      "Epoch 77/100\n",
      "33/33 [==============================] - 0s 5ms/step - loss: 0.6506 - root_mean_squared_error: 0.3129 - val_loss: 0.7384 - val_root_mean_squared_error: 0.3772\n",
      "Epoch 78/100\n",
      "33/33 [==============================] - 0s 4ms/step - loss: 0.6499 - root_mean_squared_error: 0.3125 - val_loss: 0.7392 - val_root_mean_squared_error: 0.3777\n",
      "Epoch 79/100\n",
      "33/33 [==============================] - 0s 4ms/step - loss: 0.6444 - root_mean_squared_error: 0.3082 - val_loss: 0.7410 - val_root_mean_squared_error: 0.3786\n",
      "Epoch 80/100\n",
      "33/33 [==============================] - 0s 4ms/step - loss: 0.6455 - root_mean_squared_error: 0.3090 - val_loss: 0.7413 - val_root_mean_squared_error: 0.3789\n",
      "Epoch 81/100\n",
      "33/33 [==============================] - 0s 4ms/step - loss: 0.6498 - root_mean_squared_error: 0.3122 - val_loss: 0.7410 - val_root_mean_squared_error: 0.3788\n",
      "Epoch 82/100\n",
      "33/33 [==============================] - 0s 5ms/step - loss: 0.6479 - root_mean_squared_error: 0.3113 - val_loss: 0.7421 - val_root_mean_squared_error: 0.3795\n",
      "Epoch 83/100\n",
      "33/33 [==============================] - 0s 4ms/step - loss: 0.6499 - root_mean_squared_error: 0.3129 - val_loss: 0.7427 - val_root_mean_squared_error: 0.3798\n",
      "Epoch 84/100\n",
      "33/33 [==============================] - 0s 5ms/step - loss: 0.6516 - root_mean_squared_error: 0.3140 - val_loss: 0.7433 - val_root_mean_squared_error: 0.3802\n",
      "Epoch 85/100\n",
      "33/33 [==============================] - 0s 3ms/step - loss: 0.6407 - root_mean_squared_error: 0.3056 - val_loss: 0.7449 - val_root_mean_squared_error: 0.3810\n",
      "Epoch 86/100\n",
      "33/33 [==============================] - 0s 4ms/step - loss: 0.6482 - root_mean_squared_error: 0.3114 - val_loss: 0.7429 - val_root_mean_squared_error: 0.3799\n",
      "Epoch 87/100\n",
      "33/33 [==============================] - 0s 4ms/step - loss: 0.6402 - root_mean_squared_error: 0.3050 - val_loss: 0.7424 - val_root_mean_squared_error: 0.3797\n",
      "Epoch 88/100\n",
      "33/33 [==============================] - 0s 4ms/step - loss: 0.6430 - root_mean_squared_error: 0.3076 - val_loss: 0.7417 - val_root_mean_squared_error: 0.3794\n",
      "Epoch 89/100\n",
      "33/33 [==============================] - 0s 4ms/step - loss: 0.6458 - root_mean_squared_error: 0.3090 - val_loss: 0.7427 - val_root_mean_squared_error: 0.3798\n",
      "Epoch 90/100\n",
      "33/33 [==============================] - 0s 4ms/step - loss: 0.6409 - root_mean_squared_error: 0.3057 - val_loss: 0.7443 - val_root_mean_squared_error: 0.3805\n",
      "Epoch 91/100\n",
      "33/33 [==============================] - 0s 4ms/step - loss: 0.6423 - root_mean_squared_error: 0.3067 - val_loss: 0.7454 - val_root_mean_squared_error: 0.3812\n",
      "Epoch 92/100\n",
      "33/33 [==============================] - 0s 3ms/step - loss: 0.6423 - root_mean_squared_error: 0.3070 - val_loss: 0.7465 - val_root_mean_squared_error: 0.3819\n",
      "Epoch 93/100\n",
      "33/33 [==============================] - 0s 4ms/step - loss: 0.6525 - root_mean_squared_error: 0.3152 - val_loss: 0.7477 - val_root_mean_squared_error: 0.3825\n",
      "Epoch 94/100\n",
      "33/33 [==============================] - 0s 4ms/step - loss: 0.6431 - root_mean_squared_error: 0.3073 - val_loss: 0.7476 - val_root_mean_squared_error: 0.3825\n",
      "Epoch 95/100\n",
      "33/33 [==============================] - 0s 3ms/step - loss: 0.6354 - root_mean_squared_error: 0.3018 - val_loss: 0.7478 - val_root_mean_squared_error: 0.3827\n",
      "Epoch 96/100\n",
      "33/33 [==============================] - 0s 4ms/step - loss: 0.6470 - root_mean_squared_error: 0.3106 - val_loss: 0.7475 - val_root_mean_squared_error: 0.3824\n",
      "Epoch 97/100\n",
      "33/33 [==============================] - 0s 4ms/step - loss: 0.6391 - root_mean_squared_error: 0.3044 - val_loss: 0.7489 - val_root_mean_squared_error: 0.3830\n",
      "Epoch 98/100\n",
      "33/33 [==============================] - 0s 4ms/step - loss: 0.6376 - root_mean_squared_error: 0.3030 - val_loss: 0.7493 - val_root_mean_squared_error: 0.3832\n",
      "Epoch 99/100\n",
      "33/33 [==============================] - 0s 4ms/step - loss: 0.6442 - root_mean_squared_error: 0.3086 - val_loss: 0.7505 - val_root_mean_squared_error: 0.3839\n",
      "Epoch 100/100\n",
      "33/33 [==============================] - 0s 3ms/step - loss: 0.6349 - root_mean_squared_error: 0.3011 - val_loss: 0.7504 - val_root_mean_squared_error: 0.3839\n"
     ]
    }
   ],
   "source": [
    "# begin the training\n",
    " \n",
    "history = model.fit(\n",
    "    x = x_train,\n",
    "    y = y_train,\n",
    "    epochs = 100,\n",
    "    validation_data = (x_val, y_val)\n",
    ")"
   ]
  },
  {
   "cell_type": "code",
   "execution_count": 39,
   "id": "c4af5d40",
   "metadata": {},
   "outputs": [
    {
     "data": {
      "image/png": "[encoded data removed]",
      "text/plain": [
       "<Figure size 432x288 with 1 Axes>"
      ]
     },
     "metadata": {},
     "output_type": "display_data"
    }
   ],
   "source": [
    "# showing the plot loss and validation\n",
    "plt.plot(history.history['root_mean_squared_error'])\n",
    "plt.plot(history.history['val_root_mean_squared_error'])\n",
    "plt.title('model_metrics')\n",
    "plt.ylabel('root_mean_squared_error')\n",
    "plt.xlabel('epoch')\n",
    "plt.ylim(ymin=0, ymax=0.4)\n",
    "plt.legend(['train', 'test'], loc='center left')\n",
    "plt.show()"
   ]
  },
  {
   "cell_type": "markdown",
   "id": "b410f2bd",
   "metadata": {},
   "source": [
    "## Recommendation"
   ]
  },
  {
   "cell_type": "code",
   "execution_count": 40,
   "id": "b5703897",
   "metadata": {},
   "outputs": [],
   "source": [
    "# dataframe preparation\n",
    "place_df = place[['Place_Id','Place_Name','Category','Rating','Price']]\n",
    "place_df.columns = ['id','place_name','category','rating','price']\n",
    "data = rating.copy()"
   ]
  },
  {
   "cell_type": "code",
   "execution_count": 41,
   "id": "02541bc5",
   "metadata": {},
   "outputs": [],
   "source": [
    "# user sampling\n",
    "user_id = data.User_Id.sample(1).iloc[0]\n",
    "place_visited_by_user = data[data.User_Id == user_id]"
   ]
  },
  {
   "cell_type": "code",
   "execution_count": 42,
   "id": "229ea2e4",
   "metadata": {},
   "outputs": [],
   "source": [
    "# unvisited location data\n",
    "place_not_visited = place_df[~place_df['id'].isin(place_visited_by_user.Place_Id.values)]['id'] \n",
    "place_not_visited = list(\n",
    "    set(place_not_visited)\n",
    "    .intersection(set(place_to_place_encoded.keys()))\n",
    ")\n",
    " \n",
    "place_not_visited = [[place_to_place_encoded.get(x)] for x in place_not_visited]\n",
    "user_encoder = user_to_user_encoded.get(user_id)\n",
    "user_place_array = np.hstack(\n",
    "    ([[user_encoder]] * len(place_not_visited), place_not_visited)\n",
    ")"
   ]
  },
  {
   "cell_type": "code",
   "execution_count": 43,
   "id": "fa667b79",
   "metadata": {},
   "outputs": [
    {
     "name": "stdout",
     "output_type": "stream",
     "text": [
      "2/2 [==============================] - 0s 0s/step\n",
      "Recommendation list for: User 285 \n",
      "\n",
      "\n",
      "============================================================\n",
      "Places with highest rating from users\n",
      "============================================================\n"
     ]
    },
    {
     "data": {
      "text/html": [
       "<div>\n",
       "<style scoped>\n",
       "    .dataframe tbody tr th:only-of-type {\n",
       "        vertical-align: middle;\n",
       "    }\n",
       "\n",
       "    .dataframe tbody tr th {\n",
       "        vertical-align: top;\n",
       "    }\n",
       "\n",
       "    .dataframe thead th {\n",
       "        text-align: right;\n",
       "    }\n",
       "</style>\n",
       "<table border=\"1\" class=\"dataframe\">\n",
       "  <thead>\n",
       "    <tr style=\"text-align: right;\">\n",
       "      <th></th>\n",
       "      <th>place_name</th>\n",
       "      <th>category</th>\n",
       "    </tr>\n",
       "  </thead>\n",
       "  <tbody>\n",
       "    <tr>\n",
       "      <th>356</th>\n",
       "      <td>Wisata Alam Wana Wisata Penggaron</td>\n",
       "      <td>National Park</td>\n",
       "    </tr>\n",
       "    <tr>\n",
       "      <th>376</th>\n",
       "      <td>La Kana Chapel</td>\n",
       "      <td>Amusement Park</td>\n",
       "    </tr>\n",
       "    <tr>\n",
       "      <th>383</th>\n",
       "      <td>Kampung Tematik Jawi</td>\n",
       "      <td>Culture</td>\n",
       "    </tr>\n",
       "    <tr>\n",
       "      <th>385</th>\n",
       "      <td>Air Terjun Semirang</td>\n",
       "      <td>National Park</td>\n",
       "    </tr>\n",
       "    <tr>\n",
       "      <th>387</th>\n",
       "      <td>Watu Gunung Ungaran</td>\n",
       "      <td>National Park</td>\n",
       "    </tr>\n",
       "  </tbody>\n",
       "</table>\n",
       "</div>"
      ],
      "text/plain": [
       "                            place_name        category\n",
       "356  Wisata Alam Wana Wisata Penggaron   National Park\n",
       "376                     La Kana Chapel  Amusement Park\n",
       "383               Kampung Tematik Jawi         Culture\n",
       "385                Air Terjun Semirang   National Park\n",
       "387                Watu Gunung Ungaran   National Park"
      ]
     },
     "execution_count": 43,
     "metadata": {},
     "output_type": "execute_result"
    }
   ],
   "source": [
    "# top 10 recommendations\n",
    "ratings = model.predict(user_place_array).flatten()\n",
    "top_ratings_indices = ratings.argsort()[-10:][::-1]\n",
    "recommended_place_ids = [\n",
    "    place_encoded_to_place.get(place_not_visited[x][0]) for x in top_ratings_indices\n",
    "]\n",
    " \n",
    "print('Recommendation list for: {} \\n\\n'.format('User ' + str(user_id)))\n",
    "print('====' * 15)\n",
    "print('Places with highest rating from users')\n",
    "print('====' * 15)\n",
    "top_place_user = (\n",
    "    place_visited_by_user.sort_values(\n",
    "        by = 'Place_Ratings',\n",
    "        ascending=False\n",
    "    )\n",
    "    .head(5)\n",
    "    .Place_Id.values\n",
    ")\n",
    " \n",
    "place_df_rows = place_df[place_df['id'].isin(top_place_user)]\n",
    "pd.DataFrame(place_df_rows[['place_name', 'category']])\n"
   ]
  },
  {
   "cell_type": "code",
   "execution_count": 44,
   "id": "83310541",
   "metadata": {},
   "outputs": [
    {
     "name": "stdout",
     "output_type": "stream",
     "text": [
      "\n",
      "\n",
      "============================================================\n",
      "Top 10 place recommendations\n",
      "============================================================\n"
     ]
    },
    {
     "data": {
      "text/html": [
       "<div>\n",
       "<style scoped>\n",
       "    .dataframe tbody tr th:only-of-type {\n",
       "        vertical-align: middle;\n",
       "    }\n",
       "\n",
       "    .dataframe tbody tr th {\n",
       "        vertical-align: top;\n",
       "    }\n",
       "\n",
       "    .dataframe thead th {\n",
       "        text-align: right;\n",
       "    }\n",
       "</style>\n",
       "<table border=\"1\" class=\"dataframe\">\n",
       "  <thead>\n",
       "    <tr style=\"text-align: right;\">\n",
       "      <th></th>\n",
       "      <th>place_name</th>\n",
       "      <th>category</th>\n",
       "      <th>rating</th>\n",
       "      <th>price</th>\n",
       "    </tr>\n",
       "  </thead>\n",
       "  <tbody>\n",
       "    <tr>\n",
       "      <th>341</th>\n",
       "      <td>Taman Kasmaran</td>\n",
       "      <td>Amusement Park</td>\n",
       "      <td>4.5</td>\n",
       "      <td>3000</td>\n",
       "    </tr>\n",
       "    <tr>\n",
       "      <th>346</th>\n",
       "      <td>Taman Pandanaran</td>\n",
       "      <td>Amusement Park</td>\n",
       "      <td>4.4</td>\n",
       "      <td>0</td>\n",
       "    </tr>\n",
       "    <tr>\n",
       "      <th>352</th>\n",
       "      <td>Taman Srigunting</td>\n",
       "      <td>Amusement Park</td>\n",
       "      <td>4.7</td>\n",
       "      <td>0</td>\n",
       "    </tr>\n",
       "    <tr>\n",
       "      <th>357</th>\n",
       "      <td>Masjid Kapal Semarang</td>\n",
       "      <td>Worship place</td>\n",
       "      <td>4.1</td>\n",
       "      <td>0</td>\n",
       "    </tr>\n",
       "    <tr>\n",
       "      <th>366</th>\n",
       "      <td>Wisata Lereng Kelir</td>\n",
       "      <td>National Park</td>\n",
       "      <td>4.3</td>\n",
       "      <td>7000</td>\n",
       "    </tr>\n",
       "    <tr>\n",
       "      <th>371</th>\n",
       "      <td>Gua Maria Kerep Ambarawa</td>\n",
       "      <td>National Park</td>\n",
       "      <td>4.8</td>\n",
       "      <td>2000</td>\n",
       "    </tr>\n",
       "    <tr>\n",
       "      <th>373</th>\n",
       "      <td>Hutan Pinus Kayon</td>\n",
       "      <td>National Park</td>\n",
       "      <td>4.4</td>\n",
       "      <td>6000</td>\n",
       "    </tr>\n",
       "    <tr>\n",
       "      <th>379</th>\n",
       "      <td>Masjid Agung Ungaran</td>\n",
       "      <td>Worship place</td>\n",
       "      <td>4.7</td>\n",
       "      <td>0</td>\n",
       "    </tr>\n",
       "    <tr>\n",
       "      <th>381</th>\n",
       "      <td>Kampoeng Kopi Banaran</td>\n",
       "      <td>Amusement Park</td>\n",
       "      <td>4.3</td>\n",
       "      <td>200000</td>\n",
       "    </tr>\n",
       "    <tr>\n",
       "      <th>386</th>\n",
       "      <td>Obyek Wisata Goa Kreo</td>\n",
       "      <td>National Park</td>\n",
       "      <td>4.3</td>\n",
       "      <td>5500</td>\n",
       "    </tr>\n",
       "  </tbody>\n",
       "</table>\n",
       "</div>"
      ],
      "text/plain": [
       "                   place_name        category  rating   price\n",
       "341            Taman Kasmaran  Amusement Park     4.5    3000\n",
       "346          Taman Pandanaran  Amusement Park     4.4       0\n",
       "352          Taman Srigunting  Amusement Park     4.7       0\n",
       "357     Masjid Kapal Semarang   Worship place     4.1       0\n",
       "366       Wisata Lereng Kelir   National Park     4.3    7000\n",
       "371  Gua Maria Kerep Ambarawa   National Park     4.8    2000\n",
       "373         Hutan Pinus Kayon   National Park     4.4    6000\n",
       "379      Masjid Agung Ungaran   Worship place     4.7       0\n",
       "381     Kampoeng Kopi Banaran  Amusement Park     4.3  200000\n",
       "386     Obyek Wisata Goa Kreo   National Park     4.3    5500"
      ]
     },
     "execution_count": 44,
     "metadata": {},
     "output_type": "execute_result"
    }
   ],
   "source": [
    "print('\\n')\n",
    "print('====' * 15)\n",
    "print('Top 10 place recommendations')\n",
    "print('====' * 15)\n",
    "\n",
    "recommended_place = place_df[place_df['id'].isin(recommended_place_ids)]\n",
    "pd.DataFrame(recommended_place[['place_name', 'category', 'rating', 'price']])"
   ]
  },
  {
   "cell_type": "code",
   "execution_count": null,
   "id": "53b37c6a",
   "metadata": {},
   "outputs": [],
   "source": []
  }
 ],
 "metadata": {
  "kernelspec": {
   "display_name": "Python 3 (ipykernel)",
   "language": "python",
   "name": "python3"
  },
  "language_info": {
   "codemirror_mode": {
    "name": "ipython",
    "version": 3
   },
   "file_extension": ".py",
   "mimetype": "text/x-python",
   "name": "python",
   "nbconvert_exporter": "python",
   "pygments_lexer": "ipython3",
   "version": "3.9.12"
  }
 },
 "nbformat": 4,
 "nbformat_minor": 5
}
